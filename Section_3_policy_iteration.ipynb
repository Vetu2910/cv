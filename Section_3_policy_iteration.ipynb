{
  "cells": [
    {
      "cell_type": "markdown",
      "metadata": {
        "pycharm": {
          "name": "#%%\n"
        },
        "id": "b9jmpP4J6VbY"
      },
      "source": [
        "<div style=\"text-align:center\">\n",
        "    <h1>\n",
        "        Policy Iteration\n",
        "    </h1>\n",
        "</div>\n",
        "<br>\n",
        "\n",
        "<div style=\"text-align:center\">\n",
        "    <p>\n",
        "        In this notebook we are going to look at a dynamic programming algorithm called policy iteration. In it, we will iteratively interleave two processes: policy evaluation and policy improvement, until the optimal policy and state values are found.\n",
        "    </p>\n",
        "</div>\n",
        "\n",
        "<br>"
      ]
    },
    {
      "cell_type": "code",
      "source": [
        "# @title Setup code (not important) - Run this cell by pressing \"Shift + Enter\"\n",
        "\n",
        "\n",
        "\n",
        "!pip install -qq gym==0.23.0\n",
        "\n",
        "\n",
        "from typing import Tuple, Dict, Optional, Iterable, Callable\n",
        "\n",
        "import numpy as np\n",
        "import seaborn as sns\n",
        "import matplotlib\n",
        "from matplotlib import animation\n",
        "\n",
        "from IPython.display import HTML\n",
        "\n",
        "import gym\n",
        "from gym import spaces\n",
        "from gym.error import DependencyNotInstalled\n",
        "\n",
        "import pygame\n",
        "from pygame import gfxdraw\n",
        "\n",
        "\n",
        "class Maze(gym.Env):\n",
        "\n",
        "    def __init__(self, exploring_starts: bool = False,\n",
        "                 shaped_rewards: bool = False, size: int = 5) -> None:\n",
        "        super().__init__()\n",
        "        self.exploring_starts = exploring_starts\n",
        "        self.shaped_rewards = shaped_rewards\n",
        "        self.state = (size - 1, size - 1)\n",
        "        self.goal = (size - 1, size - 1)\n",
        "        self.maze = self._create_maze(size=size)\n",
        "        self.distances = self._compute_distances(self.goal, self.maze)\n",
        "        self.action_space = spaces.Discrete(n=4)\n",
        "        self.action_space.action_meanings = {0: 'UP', 1: 'RIGHT', 2: 'DOWN', 3: \"LEFT\"}\n",
        "        self.observation_space = spaces.MultiDiscrete([size, size])\n",
        "\n",
        "        self.screen = None\n",
        "        self.agent_transform = None\n",
        "\n",
        "    def step(self, action: int) -> Tuple[Tuple[int, int], float, bool, Dict]:\n",
        "        reward = self.compute_reward(self.state, action)\n",
        "        self.state = self._get_next_state(self.state, action)\n",
        "        done = self.state == self.goal\n",
        "        info = {}\n",
        "        return self.state, reward, done, info\n",
        "\n",
        "    def reset(self) -> Tuple[int, int]:\n",
        "        if self.exploring_starts:\n",
        "            while self.state == self.goal:\n",
        "                self.state = tuple(self.observation_space.sample())\n",
        "        else:\n",
        "            self.state = (0, 0)\n",
        "        return self.state\n",
        "\n",
        "    def render(self, mode: str = 'human') -> Optional[np.ndarray]:\n",
        "        assert mode in ['human', 'rgb_array']\n",
        "\n",
        "        screen_size = 600\n",
        "        scale = screen_size / 5\n",
        "\n",
        "        if self.screen is None:\n",
        "            pygame.init()\n",
        "            self.screen = pygame.Surface((screen_size, screen_size))\n",
        "\n",
        "        surf = pygame.Surface((screen_size, screen_size))\n",
        "        surf.fill((22, 36, 71))\n",
        "\n",
        "\n",
        "        for row in range(5):\n",
        "            for col in range(5):\n",
        "\n",
        "                state = (row, col)\n",
        "                for next_state in [(row + 1, col), (row - 1, col), (row, col + 1), (row, col - 1)]:\n",
        "                    if next_state not in self.maze[state]:\n",
        "\n",
        "                        # Add the geometry of the edges and walls (i.e. the boundaries between\n",
        "                        # adjacent squares that are not connected).\n",
        "                        row_diff, col_diff = np.subtract(next_state, state)\n",
        "                        left = (col + (col_diff > 0)) * scale - 2 * (col_diff != 0)\n",
        "                        right = ((col + 1) - (col_diff < 0)) * scale + 2 * (col_diff != 0)\n",
        "                        top = (5 - (row + (row_diff > 0))) * scale - 2 * (row_diff != 0)\n",
        "                        bottom = (5 - ((row + 1) - (row_diff < 0))) * scale + 2 * (row_diff != 0)\n",
        "\n",
        "                        gfxdraw.filled_polygon(surf, [(left, bottom), (left, top), (right, top), (right, bottom)], (255, 255, 255))\n",
        "\n",
        "        # Add the geometry of the goal square to the viewer.\n",
        "        left, right, top, bottom = scale * 4 + 10, scale * 5 - 10, scale - 10, 10\n",
        "        gfxdraw.filled_polygon(surf, [(left, bottom), (left, top), (right, top), (right, bottom)], (40, 199, 172))\n",
        "\n",
        "        # Add the geometry of the agent to the viewer.\n",
        "        agent_row = int(screen_size - scale * (self.state[0] + .5))\n",
        "        agent_col = int(scale * (self.state[1] + .5))\n",
        "        gfxdraw.filled_circle(surf, agent_col, agent_row, int(scale * .6 / 2), (228, 63, 90))\n",
        "\n",
        "        surf = pygame.transform.flip(surf, False, True)\n",
        "        self.screen.blit(surf, (0, 0))\n",
        "\n",
        "        return np.transpose(\n",
        "                np.array(pygame.surfarray.pixels3d(self.screen)), axes=(1, 0, 2)\n",
        "            )\n",
        "\n",
        "    def close(self) -> None:\n",
        "        if self.screen is not None:\n",
        "            pygame.display.quit()\n",
        "            pygame.quit()\n",
        "            self.screen = None\n",
        "\n",
        "    def compute_reward(self, state: Tuple[int, int], action: int) -> float:\n",
        "        next_state = self._get_next_state(state, action)\n",
        "        if self.shaped_rewards:\n",
        "            return - (self.distances[next_state] / self.distances.max())\n",
        "        return - float(state != self.goal)\n",
        "\n",
        "    def simulate_step(self, state: Tuple[int, int], action: int):\n",
        "        reward = self.compute_reward(state, action)\n",
        "        next_state = self._get_next_state(state, action)\n",
        "        done = next_state == self.goal\n",
        "        info = {}\n",
        "        return next_state, reward, done, info\n",
        "\n",
        "    def _get_next_state(self, state: Tuple[int, int], action: int) -> Tuple[int, int]:\n",
        "        if action == 0:\n",
        "            next_state = (state[0] - 1, state[1])\n",
        "        elif action == 1:\n",
        "            next_state = (state[0], state[1] + 1)\n",
        "        elif action == 2:\n",
        "            next_state = (state[0] + 1, state[1])\n",
        "        elif action == 3:\n",
        "            next_state = (state[0], state[1] - 1)\n",
        "        else:\n",
        "            raise ValueError(\"Action value not supported:\", action)\n",
        "        if next_state in self.maze[state]:\n",
        "            return next_state\n",
        "        return state\n",
        "\n",
        "    @staticmethod\n",
        "    def _create_maze(size: int) -> Dict[Tuple[int, int], Iterable[Tuple[int, int]]]:\n",
        "        maze = {(row, col): [(row - 1, col), (row + 1, col), (row, col - 1), (row, col + 1)]\n",
        "                for row in range(size) for col in range(size)}\n",
        "\n",
        "        left_edges = [[(row, 0), (row, -1)] for row in range(size)]\n",
        "        right_edges = [[(row, size - 1), (row, size)] for row in range(size)]\n",
        "        upper_edges = [[(0, col), (-1, col)] for col in range(size)]\n",
        "        lower_edges = [[(size - 1, col), (size, col)] for col in range(size)]\n",
        "        walls = [\n",
        "            [(1, 0), (1, 1)], [(2, 0), (2, 1)], [(3, 0), (3, 1)],\n",
        "            [(1, 1), (1, 2)], [(2, 1), (2, 2)], [(3, 1), (3, 2)],\n",
        "            [(3, 1), (4, 1)], [(0, 2), (1, 2)], [(1, 2), (1, 3)],\n",
        "            [(2, 2), (3, 2)], [(2, 3), (3, 3)], [(2, 4), (3, 4)],\n",
        "            [(4, 2), (4, 3)], [(1, 3), (1, 4)], [(2, 3), (2, 4)],\n",
        "        ]\n",
        "\n",
        "        obstacles = upper_edges + lower_edges + left_edges + right_edges + walls\n",
        "\n",
        "        for src, dst in obstacles:\n",
        "            maze[src].remove(dst)\n",
        "\n",
        "            if dst in maze:\n",
        "                maze[dst].remove(src)\n",
        "\n",
        "        return maze\n",
        "\n",
        "    @staticmethod\n",
        "    def _compute_distances(goal: Tuple[int, int],\n",
        "                           maze: Dict[Tuple[int, int], Iterable[Tuple[int, int]]]) -> np.ndarray:\n",
        "        distances = np.full((5, 5), np.inf)\n",
        "        visited = set()\n",
        "        distances[goal] = 0.\n",
        "\n",
        "        while visited != set(maze):\n",
        "            sorted_dst = [(v // 5, v % 5) for v in distances.argsort(axis=None)]\n",
        "            closest = next(x for x in sorted_dst if x not in visited)\n",
        "            visited.add(closest)\n",
        "\n",
        "            for neighbour in maze[closest]:\n",
        "                distances[neighbour] = min(distances[neighbour], distances[closest] + 1)\n",
        "        return distances\n",
        "\n",
        "\n",
        "def plot_policy(probs_or_qvals, frame, action_meanings=None):\n",
        "    if action_meanings is None:\n",
        "        action_meanings = {0: 'U', 1: 'R', 2: 'D', 3: 'L'}\n",
        "    fig, axes = plt.subplots(1, 2, figsize=(8, 4))\n",
        "    max_prob_actions = probs_or_qvals.argmax(axis=-1)\n",
        "    probs_copy = max_prob_actions.copy().astype(object)\n",
        "    for key in action_meanings:\n",
        "        probs_copy[probs_copy == key] = action_meanings[key]\n",
        "    sns.heatmap(max_prob_actions, annot=probs_copy, fmt='', cbar=False, cmap='coolwarm',\n",
        "                annot_kws={'weight': 'bold', 'size': 12}, linewidths=2, ax=axes[0])\n",
        "    axes[1].imshow(frame)\n",
        "    axes[0].axis('off')\n",
        "    axes[1].axis('off')\n",
        "    plt.suptitle(\"Policy\", size=18)\n",
        "    plt.tight_layout()\n",
        "\n",
        "\n",
        "def plot_values(state_values, frame):\n",
        "    f, axes = plt.subplots(1, 2, figsize=(10, 4))\n",
        "    sns.heatmap(state_values, annot=True, fmt=\".2f\", cmap='coolwarm',\n",
        "                annot_kws={'weight': 'bold', 'size': 12}, linewidths=2, ax=axes[0])\n",
        "    axes[1].imshow(frame)\n",
        "    axes[0].axis('off')\n",
        "    axes[1].axis('off')\n",
        "    plt.tight_layout()\n",
        "\n",
        "\n",
        "def display_video(frames):\n",
        "    # Copied from: https://colab.research.google.com/github/deepmind/dm_control/blob/master/tutorial.ipynb\n",
        "    orig_backend = matplotlib.get_backend()\n",
        "    matplotlib.use('Agg')\n",
        "    fig, ax = plt.subplots(1, 1, figsize=(5, 5))\n",
        "    matplotlib.use(orig_backend)\n",
        "    ax.set_axis_off()\n",
        "    ax.set_aspect('equal')\n",
        "    ax.set_position([0, 0, 1, 1])\n",
        "    im = ax.imshow(frames[0])\n",
        "    def update(frame):\n",
        "        im.set_data(frame)\n",
        "        return [im]\n",
        "    anim = animation.FuncAnimation(fig=fig, func=update, frames=frames,\n",
        "                                    interval=50, blit=True, repeat=False)\n",
        "    return HTML(anim.to_html5_video())\n",
        "\n",
        "\n",
        "def test_agent(environment, policy, episodes=10):\n",
        "    frames = []\n",
        "    for episode in range(episodes):\n",
        "        state = env.reset()\n",
        "        done = False\n",
        "        frames.append(env.render(mode=\"rgb_array\"))\n",
        "\n",
        "        while not done:\n",
        "            p = policy(state)\n",
        "            if isinstance(p, np.ndarray):\n",
        "                action = np.random.choice(4, p=p)\n",
        "            else:\n",
        "                action = p\n",
        "            next_state, reward, done, extra_info = env.step(action)\n",
        "            img = env.render(mode=\"rgb_array\")\n",
        "            frames.append(img)\n",
        "            state = next_state\n",
        "\n",
        "    return display_video(frames)\n",
        "\n"
      ],
      "metadata": {
        "id": "dnULhrB06fg1",
        "colab": {
          "base_uri": "https://localhost:8080/"
        },
        "outputId": "9a63c118-ff09-4c17-d072-8b29488ae6eb"
      },
      "execution_count": 3,
      "outputs": [
        {
          "output_type": "stream",
          "name": "stdout",
          "text": [
            "\u001b[?25l     \u001b[90m━━━━━━━━━━━━━━━━━━━━━━━━━━━━━━━━━━━━━━━━\u001b[0m \u001b[32m0.0/624.4 kB\u001b[0m \u001b[31m?\u001b[0m eta \u001b[36m-:--:--\u001b[0m\r\u001b[2K     \u001b[91m━━━━━━━━━━━━━━━━━━━\u001b[0m\u001b[90m╺\u001b[0m\u001b[90m━━━━━━━━━━━━━━━━━━━\u001b[0m \u001b[32m307.2/624.4 kB\u001b[0m \u001b[31m9.3 MB/s\u001b[0m eta \u001b[36m0:00:01\u001b[0m\r\u001b[2K     \u001b[90m━━━━━━━━━━━━━━━━━━━━━━━━━━━━━━━━━━━━━━\u001b[0m \u001b[32m624.4/624.4 kB\u001b[0m \u001b[31m10.3 MB/s\u001b[0m eta \u001b[36m0:00:00\u001b[0m\n",
            "\u001b[?25h  Installing build dependencies ... \u001b[?25l\u001b[?25hdone\n",
            "  Getting requirements to build wheel ... \u001b[?25l\u001b[?25hdone\n",
            "  Preparing metadata (pyproject.toml) ... \u001b[?25l\u001b[?25hdone\n",
            "  Building wheel for gym (pyproject.toml) ... \u001b[?25l\u001b[?25hdone\n"
          ]
        },
        {
          "output_type": "stream",
          "name": "stderr",
          "text": [
            "Gym has been unmaintained since 2022 and does not support NumPy 2.0 amongst other critical functionality.\n",
            "Please upgrade to Gymnasium, the maintained drop-in replacement of Gym, or contact the authors of your software and request that they upgrade.\n",
            "See the migration guide at https://gymnasium.farama.org/introduction/migration_guide/ for additional information.\n"
          ]
        }
      ]
    },
    {
      "cell_type": "markdown",
      "metadata": {
        "id": "j-pns0SL6Vbc"
      },
      "source": [
        "## Import the necessary software libraries:"
      ]
    },
    {
      "cell_type": "code",
      "execution_count": 1,
      "metadata": {
        "id": "MiP1siGs6Vbc"
      },
      "outputs": [],
      "source": [
        "import numpy as np\n",
        "import matplotlib.pyplot as plt"
      ]
    },
    {
      "cell_type": "markdown",
      "metadata": {
        "id": "NM6THrGl6Vbd"
      },
      "source": [
        "## Initialize the environment"
      ]
    },
    {
      "cell_type": "code",
      "execution_count": 4,
      "metadata": {
        "id": "q2ytq7oR6Vbe"
      },
      "outputs": [],
      "source": [
        "env = Maze()"
      ]
    },
    {
      "cell_type": "code",
      "execution_count": 5,
      "metadata": {
        "id": "glvnH2SX6Vbe",
        "colab": {
          "base_uri": "https://localhost:8080/",
          "height": 423
        },
        "outputId": "403b7001-4fe0-489d-f890-a01dbe3e9172"
      },
      "outputs": [
        {
          "output_type": "execute_result",
          "data": {
            "text/plain": [
              "<matplotlib.image.AxesImage at 0x7e3b2b08a450>"
            ]
          },
          "metadata": {},
          "execution_count": 5
        },
        {
          "output_type": "display_data",
          "data": {
            "text/plain": [
              "<Figure size 640x480 with 1 Axes>"
            ],
            "image/png": "[encoded data removed]"
          },
          "metadata": {}
        }
      ],
      "source": [
        "frame = env.render(mode='rgb_array')\n",
        "plt.axis('off')\n",
        "plt.imshow(frame)"
      ]
    },
    {
      "cell_type": "code",
      "execution_count": 6,
      "metadata": {
        "id": "YrpWHqxu6Vbe",
        "colab": {
          "base_uri": "https://localhost:8080/"
        },
        "outputId": "2b6b5a94-c376-4f73-903f-61d72be2ac26"
      },
      "outputs": [
        {
          "output_type": "stream",
          "name": "stdout",
          "text": [
            "Observation space shape: [5 5]\n",
            "Number of actions: 4\n"
          ]
        }
      ],
      "source": [
        "print(f\"Observation space shape: {env.observation_space.nvec}\")\n",
        "print(f\"Number of actions: {env.action_space.n}\")"
      ]
    },
    {
      "cell_type": "markdown",
      "metadata": {
        "id": "Rx947Ii46Vbf"
      },
      "source": [
        "## Define the policy $\\pi(\\cdot|s)$"
      ]
    },
    {
      "cell_type": "markdown",
      "metadata": {
        "id": "mj-DEzgD6Vbf"
      },
      "source": [
        "#### Create the policy $\\pi(\\cdot|s)$"
      ]
    },
    {
      "cell_type": "code",
      "execution_count": 7,
      "metadata": {
        "id": "kivjfd-t6Vbf"
      },
      "outputs": [],
      "source": [
        "policy_probs = np.full((5, 5, 4), 0.25)"
      ]
    },
    {
      "cell_type": "code",
      "execution_count": 8,
      "metadata": {
        "id": "sunXzggw6Vbf"
      },
      "outputs": [],
      "source": [
        "def policy(state):\n",
        "    return policy_probs[state]"
      ]
    },
    {
      "cell_type": "markdown",
      "metadata": {
        "id": "PGrxXujC6Vbg"
      },
      "source": [
        "#### Test the policy with state (0, 0)"
      ]
    },
    {
      "cell_type": "code",
      "execution_count": 9,
      "metadata": {
        "id": "VlXckfZ96Vbg",
        "colab": {
          "base_uri": "https://localhost:8080/"
        },
        "outputId": "e9719542-b5f0-4caa-fdab-48d8d9fbf9ca"
      },
      "outputs": [
        {
          "output_type": "stream",
          "name": "stdout",
          "text": [
            "Probability of taking action 0: 0.25\n",
            "Probability of taking action 1: 0.25\n",
            "Probability of taking action 2: 0.25\n",
            "Probability of taking action 3: 0.25\n"
          ]
        }
      ],
      "source": [
        "action_probabilities = policy((0,0))\n",
        "for action, prob in zip(range(4), action_probabilities):\n",
        "    print(f\"Probability of taking action {action}: {prob}\")"
      ]
    },
    {
      "cell_type": "markdown",
      "metadata": {
        "id": "THcQNGHa6Vbg"
      },
      "source": [
        "#### See how the random policy does in the maze"
      ]
    },
    {
      "cell_type": "code",
      "execution_count": 10,
      "metadata": {
        "id": "gsSYs5Ry6Vbg",
        "colab": {
          "base_uri": "https://localhost:8080/",
          "height": 522
        },
        "outputId": "bc2989f1-1138-41a5-8a47-eb31a9b0b008"
      },
      "outputs": [
        {
          "output_type": "execute_result",
          "data": {
            "text/plain": [
              "<IPython.core.display.HTML object>"
            ],
            "text/html": [
              "<video width=\"500\" height=\"500\" controls autoplay>\n",
              "  <source type=\"video/mp4\" src=\"data:video/mp4;base64,AAAAIGZ0eXBNNFYgAAACAE00ViBpc29taXNvMmF2YzEAAAAIZnJlZQAAMrltZGF0AAACrgYF//+q\n",
              "3EXpvebZSLeWLNgg2SPu73gyNjQgLSBjb3JlIDE2MyByMzA2MCA1ZGI2YWE2IC0gSC4yNjQvTVBF\n",
              "Ry00IEFWQyBjb2RlYyAtIENvcHlsZWZ0IDIwMDMtMjAyMSAtIGh0dHA6Ly93d3cudmlkZW9sYW4u\n",
              "b3JnL3gyNjQuaHRtbCAtIG9wdGlvbnM6IGNhYmFjPTEgcmVmPTMgZGVibG9jaz0xOjA6MCBhbmFs\n",
              "eXNlPTB4MzoweDExMyBtZT1oZXggc3VibWU9NyBwc3k9MSBwc3lfcmQ9MS4wMDowLjAwIG1peGVk\n",
              "X3JlZj0xIG1lX3JhbmdlPTE2IGNocm9tYV9tZT0xIHRyZWxsaXM9MSA4eDhkY3Q9MSBjcW09MCBk\n",
              "ZWFkem9uZT0yMSwxMSBmYXN0X3Bza2lwPTEgY2hyb21hX3FwX29mZnNldD0tMiB0aHJlYWRzPTMg\n",
              "bG9va2FoZWFkX3RocmVhZHM9MSBzbGljZWRfdGhyZWFkcz0wIG5yPTAgZGVjaW1hdGU9MSBpbnRl\n",
              "cmxhY2VkPTAgYmx1cmF5X2NvbXBhdD0wIGNvbnN0cmFpbmVkX2ludHJhPTAgYmZyYW1lcz0zIGJf\n",
              "cHlyYW1pZD0yIGJfYWRhcHQ9MSBiX2JpYXM9MCBkaXJlY3Q9MSB3ZWlnaHRiPTEgb3Blbl9nb3A9\n",
              "MCB3ZWlnaHRwPTIga2V5aW50PTI1MCBrZXlpbnRfbWluPTIwIHNjZW5lY3V0PTQwIGludHJhX3Jl\n",
              "ZnJlc2g9MCByY19sb29rYWhlYWQ9NDAgcmM9Y3JmIG1idHJlZT0xIGNyZj0yMy4wIHFjb21wPTAu\n",
              "NjAgcXBtaW49MCBxcG1heD02OSBxcHN0ZXA9NCBpcF9yYXRpbz0xLjQwIGFxPTE6MS4wMACAAAAF\n",
              "k2WIhACf2WdBBMcSgR79PWMxFJhtRQC+1MOxfqRffl+BIGYSpbn04L89reMR6l2wAAADAAADAECn\n",
              "OiagH/jHhnJs3HXkrrQfF5oa8HLd82/vrqnbi9FGfNPCK3X7oO0oFl8AIHdgl6NCUsYmC7sGxWDR\n",
              "v8QDFunqO1KO/h4hnbgcXmGt3SAdqYvFiU+mvUY+VGbnRkuG41lTNkHgXhKXs3ncN2NPzWwrMLYK\n",
              "iwGs1d09joi/F1DlNoWF4YqpaMi8QyvI/nxe+3oOSPgZ15gbZdnVITxZGE9ccJP04fLOAKYGXGQu\n",
              "AAADArDoFmO+cLSFYyzvx4faZE9HyCUuNA81eamZgwtWkU/AbSWZFQfthG/c451PdnUfKEV5M6bh\n",
              "Ljy4nW6+WH23bEBpViFSHGNk0LKhcbXTcV5LIYXwxhuTBUzWYH4ZIDp83tO5JvlcrAAADV2YWl5b\n",
              "qstyCEJtdMqrCxQnTTOR++HYHRI+VfgcQwakhzggj9f4HENmbz9k9N3NWyftSo+P3LyJP9O+l7i5\n",
              "+0qX8q2EWmAJTBfo81SWZoWjsLLCJ70gXYFA0oOYA3nIOHZHXkeg1ohfI3ZZ4DRl+ZxO0OtgxiFP\n",
              "jSfJasGfTJhNsjtivDdRa7gOE329lp6fjFlLCj/O5rJBW89KWK3TJ1ChMjsmMwYsT00c0hD0I7ZD\n",
              "A2lHPivBRD/B6fglKCjR3VyHl+o7jzFxX6LOZHNlO+EAAAx4ys1qM253WgpW+qJ2AOj1P+gU8BAQ\n",
              "082mUt6XubMoJY4tv/s5EP054S6IlZxxp1vYGlrljJBxIq8XCxt0aPWTY50RKCgjEWPSKdyI2NXZ\n",
              "n5dcpLiMrVEFZEug2zNP60IvGvo2E4NlpyJEO39hcjbgU2DlEKVPpzClxCcsot+DILjtpDxddGnv\n",
              "iMWlSe9etKUWZ5rBYcZ6ALPpRo02uboqkaw+9dYnSNfRaKsBjRbyXfi+ILqNCChaBDJnbFCcKKsw\n",
              "9xmTPODp3p2Y77/GiXfohgYqQVYEr34msJji9MRbINQ9DICo9s7nMMeKfaI8TzVSZUsExHBKe26s\n",
              "KxteAc/cB4TZBBVq5hD6xNlKr513E6lO4a0+YbiFyZRmwDB2ZUtk6ilX7zD9GhbgOYxFBWlZAI/K\n",
              "awhWOmf3I/h2b7JlSLKlFWgQW5OYSxn+QtzbS0UHPteKvXLRhvGnnjyHETvedk63TUkcx0q31cQ/\n",
              "DKcc+qPbtkfI7e2hHETzy5yONtK284bpJTUziJir7nKDNMH9q1EzNeSXp/KFg/2ucJtLAcnBNWaC\n",
              "Ua/W9pAqwpTLSHwejh2LuH1XSxxHEVY5tOqhgaigWOt5sNVUr8RsN2/nfe+rPVbrtjDV7DYAACHL\n",
              "l6A8wEFRY8ASANNO7ShUgCVE8lUWNbhWKFUgU/AyP7Jctua3ciG5Ud6n8yFNWb9ud15gfO4UVcEH\n",
              "b7HpRMimScqAcpLwiPaHt4hJgONfV2qu3K3z1y6TFgH6BG1+4+EktNzsyVFVws7GIju3ZcC7hnbv\n",
              "lLClGc6w47ll1VpJ/nt4zAyQSh2N1lW64Gkn8dYXbsR4O7mZMm6uaclwG8x8T/DM4gwOlQenG3C6\n",
              "oKU+zU4Ma/Du9ILc9DGO4inMWXr59h7R5hAOFxx4Bk06Rmoi6Pf2togSn8vPjow6rJMiuj5rkTW1\n",
              "nBCe/b0L3ZtTOJC6OhOZ8kYxOFElZxRmwAHLcqmy4IAp/E/5zoltIdzs94124lxUhPS9UT6Anz+Y\n",
              "oqmbpV1KdAtP0f4qSWy05kA9f+NunSYieX6bkhjhG9kNQ+Q2HIzwcKgcy6tenktEdJSzFN2Gm1UO\n",
              "ui/cQPYV/zBfS5iQ8Z3yzmknljGRrCFJByP4e0ZWWKb9b65gKYLrJJuPB0j/RqT6QAyAZWv893D3\n",
              "AizxAAABuEGaImxJ/wAiCq/F3tdexs+WatVScYM2v3mX2Lf91t6dRBr0tEsoJZKzA35/HVEn4g68\n",
              "etF0cW9yzTFsvKVUgc4Gkt8yZRbCcqdKnW71Iflj43JV0VW0l82HbqTVahnbCoq0+6BptThUrFtw\n",
              "4+GXByqxg8AKoYzSQ/4BGcOzSobE4+mn8X9Sgcd1UDjOu7+hp4Gj6ShZcDjsDgJ5/w3t6dyr/91V\n",
              "dYh5byADbFOonwgUadWdM7cQ0AlN1AKFhtBGf433aSo+j0yJ7oMnL23C2UvhlQOHWvpKcxwVxCPX\n",
              "uWWb7mnUSFf7zu2zdt2DsMltFcGlhMljXrwi8wcAD7jXfI9Co7fEg0HtYJFwD1J42Ro7R1wuzR0j\n",
              "GUf0oaFCrGagpgEOFrLf7umKlcwgydB00DktilQG09DER0OOLJpyv87n1pGrSW22iLzVggmB91TE\n",
              "aC8mzNP2SeBisVecicS+EuUw64wl4hFks+MOJ+no4Bq6ORLCUfYKJsle5RYnncclYAo94gFk80Mr\n",
              "CwxF09mKkikUOp3pZyItS/a3Knizirbl7Pcnz8DtkQSXHL44b/vSLTWXpIJsYicgAAAANwGeQXkL\n",
              "f0CNZvrLsD0vviLDQCcwWdmQ9o+Ngyo2mOVyfVMN9Z0fiAABT+UXzgADKhMuR6iAkYEAAABEQZpF\n",
              "PCGTKYSfAB8Rlpe00+eHW4A1QchwIfX55kq6OkBqGd5uNfgtCkul2XrCL3hdpF1vC5Z6WIeuXSDE\n",
              "AjpvC2YgekAAAAAoQZ5jalPCnz0ADEwCd2Gho1TivrqTqjLYbZNfaU7ewAAHfa2AXWg2YQAAABcB\n",
              "noRqQt855wuxq8s3DHE2xAAAAwCkgQAAAXZBmodJqEFomUwU8n8AHz/Kc6ogQbiLPxat2o1MtTB7\n",
              "Kydll+w4obVq1SUoiSO+g4cjSje5skfFvWF/i1zvrVI7WijSLljQVjHMQT/xou56yeMeXrGc3IRT\n",
              "fXutPxgdFuhZtQ11rmMnM2v5AEm6yq42OcMdJlDXT6XJopZjUz3+qokWzTpWLl/GWw4SMILTLSLj\n",
              "U9HmSAagdnaFc9yWLsoy0g7leqTQaj9ptF0RANf7wIjinoYOL7y68XVT4sqg5asOVsqPVv9nqnMf\n",
              "m8hYqgqd7n5BQ/GgpW9OlgRRtoCMQjWHAzDDWcG4wd/XVfrOu6SiVGbWxSMCpAaVK4uvoUgWS/oe\n",
              "8wiuqHQquDAnaxpBiRzrZoKaZBKUGZFQUcCUe9YO1U+YDm3ah7N4TqwxAFjNyEBCcQkZmq36SwOh\n",
              "xx4LAU8zVo1S/cAAHIKn2TB9Q7714xU7BecRfHOI8hjnY4vtJVoVI2p1ud4oUZ9v3WpwkqnF8AAD\n",
              "BwAAACYBnqZqQt8+gAg2g+IVrC7EGCXMHIZglhB1pwTmb2y10AEp0OgCzwAAAZ5BmqhJ4QpSZTAk\n",
              "/wAAID/sJ3qAN6Hec6O0qt5jCUWyeqkrHbBJf+JUYHK84Jm/Pd19rjPs6Ei+SwSvPNDDwbbR65lK\n",
              "hXDhruLxmrPZWQQPpAGBt0vYVrkBO6oOWBDXqUAYktCIpPc++Q+1IxN/6UX7wKvtrzm4KQYaNMDd\n",
              "grLUJb456441LeHY65NgwlmVzC0DWDGbUXELZ4gpNDwGtfsNmoU6Bwnkw96tKjoZpfnXfQLtTLN3\n",
              "TAa/iqtcy9/ubl/AffGOVGVrkqQXH/owXRfZXiuTp9p34+k6Zb1WJ9q9B0QWr4K9HthqUvi9SzE6\n",
              "xAhvVGE5suXFDat/PjinNgO1nSu6qT8PjeIIh0fVDtWoh/QB2TmxB/sn9sZKUImfc4n1rtMjN0bB\n",
              "lNrYUo6h6x3TDIRhrrBGLiqS8KuGcT2bpozXsPsKpCW34jad+v70Y56PV3+Rz4n4u3bJXhPvWIhI\n",
              "QXyIuz4EOFlz86XzyBB5cJf6qW4D+UexXwrg9yRPK7TmfwHuMC5jdLxdjpSF8qxVN/ZxfseBJdJN\n",
              "lBQAtoAAAAGTQZrKSeEOiZTBTRMnAAADADqf5TouWjloVs0A5fELJ2TsiWv3RxXvvbv4wQm57KOj\n",
              "irJifT6FyuJU3rPNkhVY3Mkktqq1Ldd0gaP0hugNzWtUETcLdydALvCpH7Xi4xAMpNcN0gsR/HER\n",
              "Tfxi1XVMhHkG1a3gemx0vIogQTarymlH1JNi00ls7bSd5aF/+uBrh3WWf+uMm+u23uVbhl45EjwR\n",
              "IxjKq9XSFoh6nheMnLTtOGqj/ULeCp1IZUbO6gJDWXUvRnzVg2eQwk1wmQ+S/ZhtfbJn/6fljOzm\n",
              "25TRKe//r/vxEVgKVRV94RzycQ0EsLaOUTD2wSFSuS+Jd49hx/fyrcYeCyYoEzf5dduxg90t2qke\n",
              "5vRNCRxrAvcoled4KQzWz/FlhiyOXNGVF7pUz9V4yi14LjryuAgQ85ak9wsONwNokhsdU3Sikk8v\n",
              "MvyFHSm+3oL/PyngXLIJl5UyKcrExkzK+QetKGb6j/ujLCe79YqH9TuHjRD/ioJa6PY+t8iElWNe\n",
              "MRkN9/uoxFwBH9BVBAAAACcBnulqQt8CHXfEJwUaOiQRdXhIJfW4URsBTceL5nUEOvB971v0Q8EA\n",
              "AAGFQZrtSeEPJlMCTwAAAwAAbT/KdJanfrRPPevhG2HqyxMIVrkgV3zwf1UqFXYXL6dFU6yj2OF5\n",
              "UDFnypAn184rrEUCQ96Cv/LD8QfLYi4+7/zjRF/neKD2zDx9UR6L7AoVomHXWvhKFCOj3WAxdwSI\n",
              "Eo9IavSEHkHfno1zailwjyG1Q5lTzprkrQxx+97ZFIhFHTTBW4BNu6MR679V118tzlp8nxQtVIes\n",
              "NTxaeQegUPOU10YSIDNteq0L4mDdRQnB1WUZtWIAQzrJRjtShOUz+daXmwOL8x9Gei/27scLDev/\n",
              "FmaalpELW7j0CArqZrqMYxb8C3jT879eZdtO0w3cJMLTGJoD2devBv3jjJ7qy5yPMGFp132aAgfE\n",
              "ypYo69lLUXYSqrQk8QvPFWhGMJtVIcCwL7eiC8o5fwR6laTnqx1n4lwI+97q2YFw8z+loPZz0gqA\n",
              "zGR4H/x9P+7TTV54tXvFkswTo3Zu8oKCyTqLzvuNths5iO6O9rCiaio66Jzces4LyBgAAAAsQZ8L\n",
              "RRE8Kf8CDWB4SNg2+zNWTbjGh7Is7l3u44nFU6iy8eHaNn2Jj//kWKkAAAAZAZ8sakLfAOpeoB2M\n",
              "gZSJK3+S6L0KwKUtdQAAAd5BmzFJqEFomUwJPwAAAwAAAwBb/9hPkl0+pTAuJruZkpUCzjIzjfyQ\n",
              "Qz//0NS7QG66wVtAGlR/lwGplx6XilK6hPkC/td7XIMXbinmw2g+JjDwam8wvYH44MKVInpDFT8C\n",
              "IuOa4ikKXNmMkO0QgDbE9yLvs3fzz+k3kLmHd+aUPKCbww6Vr6dmU2VAuOcw5HKaMu+W00xeRDXb\n",
              "RweaWzW+MZ4DX02Ij+OGuN1tb0DGBpTUini3OLy19M1/ZcA5iNAS/PDYSijoDNC1gPL6kxFIcCZ8\n",
              "ygZeHsxSMF6vik2geIC2tGBrQmT6Fhsf/fAFduXD1aODoMF8+GUg/GEnc7PCgemZREGM3my9yExM\n",
              "wZOOdSfB8aGRLlAnij1m7KnRBPvVix0MwUZaVRKB9i6KCFwYHsoR1kIHq/yNEuBPXo24Fv6leTXG\n",
              "XCeJHLJBZSRBF5Z/JXnvM0K9uD6a6inBiJvvnL+GkTHVwsJb/+ItILd6qPEzDB6CEs0XUKTPjcOW\n",
              "CZh0cG+lGnHoYdD7jjtJaUo9SMSXsj/z85P0fZ8kmoenJ6D1f0GjaonCy2EdRRxXQXQB+WiKCvaJ\n",
              "xK1gIhqj8S1zz6yFYIuIKXXSRCXbURvN25z6RF5ngCHC6HFvQunPAAAAKkGfT0URLCX/Aebzb2UQ\n",
              "cfrgsCsTdKCNqrU43mavrFBjE3f58e2Mrw5DEQAAACIBn250Qt8CHXfEJAUsAG0jMcFgzP7FIkQj\n",
              "Kj48l52oQJeAAAAAHQGfcGpC3wIdd8Dn4C+LglBjN+5Nsk1HZxzl7iQUAAAAQUGbdUmoQWyZTAk/\n",
              "AAADAAADAFrvfEE9MCU7jh37Sx64nvtnXjaB+i+tykaCkEejWrflyRoWLLRuVkLvtVMMBmgZAAAA\n",
              "JkGfk0UVLCX/Aebzb2UQcfrgsCt0UJDW4zPVXBShKG3NSGvJ+QToAAAAGwGfsnRC3wIdd8QkBSwA\n",
              "Yxd8B4m9zIIwdvIzkwAAACIBn7RqQt8CHXfA5+Avi4KNtO3VwBjBwvddRCuQp29Rp+I5AAABl0Gb\n",
              "uEmoQWyZTAk/AAADAABqt839738YITc9lHRxi9cCMkuFGUSpvWebJCqxuZJJbVVqW67pA0fpDdAb\n",
              "mtaoIm5mk/o5d4VI/a8XGIBlJrhukFiP44iKb+MWq6pkI8g2rW8D16SKoqag2OqvKaUfUk2LTSWz\n",
              "ttJ3loX/64HpPtXdx8f4rDD83mGlrn1uCJGMZVXq6QtEPU8Lxk5gcXiw5ljpcp/Qf2k+ysN3Fh1t\n",
              "hXoz5qwbPIZO64TIfJfs5yRprXOQnx3y3bK3lNEp7/+wBQJZpsMDQPdWFKPUievep75RM0qfCWc1\n",
              "rxC11RcT5CHQoFe/H8FkxQJm/y67djB7pbtVJizpqmAPsW93TUHv9htvHkp7fzYWGLI5c0ZUXugP\n",
              "4tGgTP7PyRxHYA37qcBGPoiBPVU94kNjqm6UUkfPkF+QzSiboYy4/xoZh7TCIhMt7sinKxMZMZzJ\n",
              "/xR3LaGQ6XKKxY0I6h/U7h3ZhwYOEmTY8GnoqtVyIWJhb8bPAGIyG+/3UYi4Aj+TsQldXMvQAA4U\n",
              "sFCrmedAAAAAM0Gf1kUVLCn/Ag1geEjX/lmmnjcBEZ1hR+CMBGmH0TxYD17jWQ+IbrbYR5rzWb8l\n",
              "D3+EdQAAABsBn/dqQt8A6l6gH1sZZxDkz0JSHFlKxlb4JuEAAAA+QZv5SahBbJlMCT8AAAMAAG0/\n",
              "ynSW0dVccibwV90OJ+BKgNNflzz74/sz3i9F4tW1P9OTCijg7qKDCuqvPOgAAAA4QZodSeEKUmUw\n",
              "JP8AAAMAAGpb/i2WAKZHBofb9TCpjBkhXjsUvHeHozvqvfK99AMVywGiUgaWYMEAAAAyQZ47RTRM\n",
              "Jf8B5vNvZRDAjYNv5OZA8d9GF3GUnPW5SWfXOrOBPHP+NDktQATNTjcwJMwAAAAgAZ5adELfAh13\n",
              "xCQFUsDO9UwT1Dot1z4oaL5rO7t5R70AAAAXAZ5cakLfAh13wOfgL/FA4U0tvoAwh6UAAAA5QZpB\n",
              "SahBaJlMCT8AAAMAAGq/y5BgNeAR99Ayztw61qH6hckX4qvVNayeB+xPlZPlf/D6VXNKmPOgAAAA\n",
              "MUGef0URLCX/Aebzb2UQcftMGiS8NAKs4Gon59T5BQnOyxMRsRktaFWC0xKC2t8P63AAAAAgAZ6e\n",
              "dELfAh13xCQFdXXwUy3YonzvC1fU6T+jZEGGg6EAAAAXAZ6AakLfAh13wOfgAFmjC7/3An9Jw/wA\n",
              "AAF5QZqCSahBbJlMCT8AAAMAAAMAW//YT5JdPn6FVqqTjBm1+8y+xb/utvTqOv/Folkq8er8Dfn8\n",
              "dUSfiDrx60XRxb3LNMWy8pVSBzgaS3zJlFsJyqXqdsjUh+WPjclXRVbSX1QdupNWOmdsKirT7oGm\n",
              "1OFSsW3Dj4ZcHKrGDwbql3QFcsM4dnlwb16tNP4v6lA47qoHGdd39DTwNH0lCzNAu4H6bw3xvb07\n",
              "lZnbau1iHmVIANsU6ifCBRp1Z0ztxDQCU3UAoWG0EZ/jfdBEARkKJ2LQRmgFspfDKgcOtfSU5jgr\n",
              "iEevcstftEGjIO1D3WHZHt2DsMltFcGlhMljXrwiKCbw+btdAXoVHb4kGg9rBIuAepPGyDHaOuF2\n",
              "aOkYyj+lDQoVYzUFMAhwtZb/d0xUkmEGZStCgclsUqA2noYiOhxxZNOV/m0+xPaYxWm0ReasEEwP\n",
              "uqYjQXk2Zp+yTwMVirzkTiXwlymHXGEk1cslnxhxP09HANaGSpkAAAGWQZqkSeEKUmUwUVLJ/wAA\n",
              "AwAAAwBOf9QjgeD1kG96S/eTy8qImEzaA4CYH2CbbdJEUYxyOmLj6H6geq5C3qXosTaHiukbMYHT\n",
              "IbmOJCpvVtKL6QrMdQK/UZB2k1PzHFhwqWC/UOaNkKBogD9VoQTsgtjXhbIrUFO7cQi1dGHbwtt6\n",
              "q/jp05/ROfXtY99ezDqB6nYSCfIyQvGQBurUPCLU2EJ7MPKA7toBGlLxHvkEOfy5pY7BbONJ01QK\n",
              "8DPXpAb0Q23Isewr0mNEV7oLs093nCclFPyJew+GdMBGHWzelWnkeAAGqm29072WrYoON0xNdgJX\n",
              "84Uoq35fH0rwbx60Hks/6+YabI/OWm0EZt/xtcBF/9wA2W78npdRlxXZAFE7gb5I+E/PFbl85vU8\n",
              "yh0AU40wbHL1p+KSTDVU3mYXgs70Hcj3diDZZKP4mNHJQgUhRTszWC8Y2cn5T/KkQXHeiArU9d/2\n",
              "L3ed2R6+RqKLr1Dp1JrMtB+53I+GTdco8vLcNnC/AWB80Mdyu7h0VfN+CGz64eeA6AAAACsBnsNq\n",
              "Qt8CHXfEJAAD1XYLo1ayZUm/NVwOkbyWwFZAkbDKU6eyDVdHrtvBAAABpEGaxknhDomUwUTJ/wAA\n",
              "AwAATnljURdv4wQm57KPmDRLPoeS+19dtm1flcxJPgLtmn4CqPfvY57M53qJKk8Uziukb3n0+jzs\n",
              "v3yrLQebPqKf0h762jPxTOoflveqUg/vOFkrAD0DQlpBTdXXEMqCeZXJMq/R/B/Y+pSF8cl1ao4x\n",
              "gVF0GW9fd6u6YICALyw2DV2iiKWGcycILNdz+mHNFy5sY8K4GqoMWycOZAYzH6IZRPS91L8Lp3NR\n",
              "O8U87iFZfzojX+PNMFyWljGloFzznW/pCDpZRzuKWyBDz5I4G2Z2Yy91wcv2J++EfQCGIBU/Xy3D\n",
              "ceGrEuSBb/m6+ng1OGFVM2y0/PtlueB93FCVGL8mf0WDJIBsgUJQHQQFBe0TUPnVsh6rzM2517XF\n",
              "2x6dMDqOtniEjBe51e64aFHlJT5GpPyjyZYM3U0TYmAjfOaS1ohtgzZtMsc4ddVoFJ4m9vuW+Kh2\n",
              "Pj9rUkzmcSn9n2TTeEL05bHuJRXEDK8/MsYmiImooH/Stz2BVzBhe4gf+5q7eMSp5Y8W9bzJNlwA\n",
              "OUFH9rJN4QAAACkBnuVqQt8CHXfEJAPz0RaA+Q4xct3CX9xqTOu/z5GJj0Gedw6KzFhL2wAAAE1B\n",
              "muhJ4Q8mUwU8nwAAAwAATZLby3ZjiuhVKD1Zjh3fTzeL7CmebS+QYdrzwPlIOlAnK8fA8F+rZsJY\n",
              "0QDQfllvcow6WjiA8lxRmCJ68QAAACcBnwdqQt8CHXfEJAP3nPK4nHGAq/UVJps6iC1CD5R7WIdG\n",
              "djlFgiQAAAA6QZsLSeEPJlMCTwAAAwAATZLbzUxra5TihZvHvK3iOlPUr6y03xuScWIGj6aXuVe+\n",
              "cYMKu2DnJMSZzAAAAC9BnylFETwp/wINYHhIAo9JEa3ARGXhoBAC0/6+DzzFRWleDPdJjcNvybPc\n",
              "hJyt7wAAABcBn0pqQt8A6l6gF+gOokG1HBuj3eYNqAAAAD9Bm01JqEFomUwU8n8AAAMAAE5+I2db\n",
              "MsM338qGZ2Njm1bGAp5YHdc8BUaQLDxZPanzoCkpxa9qc94uhIUD87MAAAAiAZ9sakLfAh13xCQD\n",
              "65BUwFmK5BaMdvGQmcYRdQX3sC0CcwAAAX5Bm3FJ4QpSZTAk/wAAAwAAAwBNSbX6qTjBm1+8y+xb\n",
              "/utvTrOohTpNHB0yVmBvz+OqJPxB149aLo4t7lmmLZeUqpA5wHz7qZMpNHtM+3CAnNqQ/LHxuSrw\n",
              "Fe7r9PigyXnQ19AW2FRVp90DWdUiP2LRl39wFsfd0b4Okfji1nBQFdKiNSt69Wmn8X9Sgcd1UDoe\n",
              "u7+jrnTUrDXf7f5WB+m8N8b2zvlT44/qkR3usyXO+YcZJ8IFGqhiVJxf4gpTiFTr0sCQjC2+/lTO\n",
              "E1UBKkotAlDNALZS+GVA4oYHTIufdXE9zZpYoe8HFIJ2x787ts3bdg7XQbRXC04iJtWi7RJqAUG3\n",
              "8dRZJ6FR2+Jlp+CwPa15vIx57ZGbYUkV/j/ZNE79bKumiCHIvhi1rLf4zEU5XdMCMBfquS2KVAbT\n",
              "0MRHQ44sl/q/2MfhwYDn7sv43jY01sD7qmI0F6B/IjIC8GFW/dY4pdCzT2WjdOiNsyp58YcT9PRw\n",
              "DHvyDzMWAP5BAAAAP0Gfj0U0TCX/Aebzb2QAAx/7qCzhudeM97INE7cvxbac6URPGABngTBzArKf\n",
              "OIibGbfagfKKllqWOImCMzJ+mQAAACMBn650Qt8CHXfEJAAD2tELUpQAkIDo1gi5GWxHa50DZ7pd\n",
              "gAAAAB4Bn7BqQt8CHXfA5+AAIo32ifVR4iNecrfiIkYIqYAAAAGHQZuySahBaJlMCT8AAAMAAAMA\n",
              "W/ycaBR/gqEKuwuX06Kp1lHscLyoGLPlSBPr+pKsmbxhvQV/5YfiD5bEXH3f+caIv87xQe2YePqi\n",
              "PRfYFCtE35TEiWSFCOj3WAxdwSIEo9Ia8x7zTjbVK0kVRS4R5Daocyp501yVoY4/fDNUWgVliMBI\n",
              "bDhx00wVuATbujEeu/VddfLc5afJ8ULVSHrDU8Wypu4H6bRKin6iAzeMzBi//zub4GRMSuX9UCAE\n",
              "M6yUZ5ZO1g9/9oh7cpVTgfRnov9vI9SSTMBXRTX/izNNS0iFrdx6BAV1M11GMYt9y2PmCy6bmVsV\n",
              "Q9BBg2GKgxR4tL7CiK7oCDblsIvJXFM+V4mYQP3wM8Mb7nIF3Y9CYuwlVWhJ4heeKtCMYTatg6L8\n",
              "irF7Y8o5fwR6laTnqx1n4lwI+97q2YFw8z+loPaThOGyzGR4H/x9P+7TTV54tX/FiswTo3Zu8oKC\n",
              "yTqLzvuNths5iO6O9rCiaio66Jzces4JgABWJEWnwQAAADxBm9RJ4QpSZTBREsn/AAADAAADAFv/\n",
              "2E71AJAiutev6CFjKxUVY1NEl96zBIeIcrGRvmPkqCRHWDleg+AAAAAlAZ/zakLfAh13xCQABIWa\n",
              "TMmBKxHiLHpisgFZW2fhRZuMuA6VgAAAADtBm/VJ4Q6JlMCT/wAAAwAAAwBa5N98QxLb/2ls2n2p\n",
              "iCR1n0sGJtnBkmkS2FJGbrXGYJOWGWMegpJtdQAAAD9BmhdJ4Q8mUwUVPJ8AAAMAAAMAxn+XIMBr\n",
              "wCQNzz9RSpT+ZlNbDR5lhZqphovacQGdc7ICK4mBwAW1tYjMX8AAAAAjAZ42akLfAh13xCQABIWa\n",
              "E7AVD61VTftTCynbfFV70N5FIMEAAAGXQZo5SeEPJlMFPJ8AAAMAAAMATn/YT5Oy27qI2QiH+uyg\n",
              "JZM2gOAmB9gm23SRFGFWfKMf8QCbgGGBb1L0WJtDxXSNmLzNA4zRlhU3q2lC+EKzHUCv1GQd+An1\n",
              "Br8iT2EDkKs9CD7YSD4EK0LrZwoimKYhYHSK8eVdGHbwtwn+VMDG/0U3RE4OZ3H1EcnU7CPknHuW\n",
              "4yAN1ah8GyU4Rjc8noK8LtTDt4zfku884nMbnotm1xB/73Jvbh0N7w/rMxP8WhhiCY0RXuguzT3e\n",
              "cJyUVvAPMy7s7nvw68AJROIuwAAj0ZWoJsgSqa7RumKKEryK+AcM+4VDGBx174AKRGvpS02M18Kq\n",
              "gIzb/ja4CMGlnAb9iZ99riMiEALoSA3yR8J88VuXzm9Tia8tRHW274OuJ6fKbuIQp3414LO9B3I9\n",
              "3Yg2WSj+JiqPmsAl7GcjGedCOErUp/lBWmgaK30R0KFPt7vO7JA6pdSCHy1e43b6RZqm6fbABF0Z\n",
              "MQkYCHH8BYd2wDbT2P7klfOAya9HhB/crN2loEyPP0cAAAApAZ5YakLfAh13xCQAA9V2WScFPlkE\n",
              "3zpQ9IkntN9HWp6r0NSZi4zB+ngAAAGsQZpdSeEPJlMCTwAAAwAATnljURdv4wQm57KPmDRZEWBW\n",
              "+1rpEG44h7yvEROgULZp+Aqj372Odc79PolNo7dT2Uje8+n0edl++VZaDzZ9RT+kPfW0Z99rREU3\n",
              "vVKQf3pyK6qHQ1UDQlpBTdXXEMqCeZXJMtbYRzQ6PHoEBcLdhWGgFRdBlvX3erumCAgC8sNg1YWz\n",
              "GTc+gKd9Y4Rzyh4j+zYx4VwNVQXa3Y0uGWNsEg22f0vdTlC6dzUTvFPO4hWX7Hs9trzg8195yyzc\n",
              "aVnOw8M/7GKjjChpgz3azIw7M7MZe63kb37DHZMzgDOIddnm+T5pHYPc6YqSgl5L38GGxuctuxEo\n",
              "5BW54H3cUJUZLqiiNaeDfliHgzSXtY9FQV0Ok0WyHqvMzbnXtcW9twq0F3mFZbtkMoiNBPuuGhR5\n",
              "SU+RqT8o8YKZsHCXp+WvaO2+7Wq8xInuKxzh11WgUnib1q8v4qHZiT9dejZ1vsf4YUmN4QvTlse4\n",
              "lFcQMrz8y01I2i6qtEVgFrA0+Fj07QP/c1d/wZk4sRfxLUPohRoYWih4W7yYaLwEXBW+58EAAAA6\n",
              "QZ57RRE8Jf8B5vNvZANBEGxiDtgSMlCTlervaCOEgVFd5jGUwBhaKpRKzwFseQjkvtdddzNOnGd/\n",
              "kAAAACEBnpp0Qt8CHXfEJAP0JK4Ay6hDZSdMaJaKEvctx6IrIdEAAAAZAZ6cakLfAh13wOfgJLFd\n",
              "f+rqctSALCAaMQAAAFBBmoFJqEFomUwJvwAAAwAAmdyNQs/d02Lg4AaeNf7ptOe74TH91Kn3FRcd\n",
              "PGVCnz1CAm9RAbWqLsEEv9ACr8zM0mm0nViNEwzp3G8xzaPGQAAAADlBnr9FESwl/wHm829kA0CM\n",
              "8MJ/9zn42D2hFA/50/3cwnE7SA0ldE7VK+c8Ah2YKN/7+iA3gaCB7sAAAAAmAZ7edELfAh13xCQD\n",
              "6uEGor7rhoWeCKtPhDFh4vYSFJOiwBGUjUEAAAAgAZ7AakLfAh13wOfgJIOVmMM3uFudMyRWXPE5\n",
              "U+FHesAAAABAQZrDSahBbJlMFEzfAAADAACZ3I1Hc237YJ1QTJgjW05Pg6HNfDvWFoZ6kQkyDTuq\n",
              "Sq1lDhiGAL5YgSMJfPXmqQAAACcBnuJqQt8CHXfEJAP3qxQ9BvxAjDbhHrolpPTfgFs7iEjeP6TT\n",
              "pVYAAAA2QZrkSeEKUmUwJv8AAAMAAJnLHZgpNLdWWVpxjo+UJMkF9iSM8UuYAXhcQglCJZFrz6Q+\n",
              "AzdNAAAANEGbBUnhDomUwJv/AAADAACZyx2bGf0Cj3geKuSQlrgKe7FqwHDc+kwKM2RnA5urHZK4\n",
              "+3MAAAGeQZsmSeEPJlMCI/8AAAMAASOhQqrsXVDW7fwZLMqo8odpYET6Wi63UCDzXfx0iByRf7YS\n",
              "k+4iGAGVG0tlz95PB2lv+1H2BkJctPTLXU4yX/dqeYbcy+SbewF+bGZFAKK5Yh9WHiGdy2EjK0dv\n",
              "b5JRo8FQmcZJtdw+MfmlolLb3DVHL0fso7E9I446GcS/LrNpnNwOsuiDXIRuYsHc0dHkaGXd3B5A\n",
              "++8vq7Rkphf7MSaEz9pd8TA5S+fSgXE9MCayhcAgwpHM/JqgzCeYozfttlBjBJfDoOHMaJfkGX5y\n",
              "9yK//zapEKdLrkMtkwObAkjRXfPfTQABG4KYujdzIzdY9KeWv0VDRVRncqTT+1uHkzmW4YLQcFRG\n",
              "tnHiehNAZ8EsH39zGjwPCN+lI3xE98bN0acn5OhHwHvx5uTBMBv3y/tqG0pN9u/y2Ue9tKRkMHzO\n",
              "7SuTu3fUXS+O0G29cEfCqrKcmhXTK1P5vAWXf3qc66zFOtUi3O1SriBxTqz5tf5SExO+cE8UiPbw\n",
              "YzCUlrTjY04XvFuJeeV4QE69kEvBAAAANkGbSEnhDyZTBRE8RwAAAwABI6E3uFCgQAbPNrgiPXgI\n",
              "lCt0Mct9s0eN0zvIHU4EgjmRAyh8wQAAACUBn2dqQt8CHXfEJAPz3NkwZaABwpOJQt93Ty22RM8D\n",
              "olsKAF7AAAABk0Gba0nhDyZTAiv/AAADAAKKWyS73VEGq0HHFFicqzIqcbh0WyroIiyoyRotxeve\n",
              "obNlzbtKgfi0/IE6IgIsYtQ53zqUwZjTd57WrWGgtLmqxm9xVjYM6A8OpQaaalz2LF6c3Qulbof7\n",
              "+62aHR3uGvKbhMmdocNnFtOqGuRQ8NMVXou7P6EngbDAqnem0uFR/zY9aq3U9uZk4y9uk2iKo9sv\n",
              "I1SZMDC90s2THb6W5Uh/IHv5MsakyNW0+5mh7N8cfYZpyZ2zJmGoH8AmLp3L74zw4EPdmn7e6xUz\n",
              "s1nvzJM5LkJMhNS74xLcxbSDSbgduoNUP7gBegFBqaN+weszmOfRgEcq6yDjIRXIQs007g9rhdt+\n",
              "vafGQlrtjrOR2Z5t/wkKt4Pf4R572NQ9y+Cmuhze7YmFdgUpvzGNDUGJ28QOAAdC9f+tOCY6DFNl\n",
              "lZPJeVax8n0362vObQ42tjHt4CfRX4+gCnJX+/fodEjqQyiQq/Eo4eH1iv5AUxFMr9qXOMjqJrwS\n",
              "jjaG3hWAHl8BlgPMjqAAAABBQZ+JRRE8Kf8CDWB4SAKP+D6WO2VhoGRSf8isivODFbNgOU2WnxvC\n",
              "DHgpotk4KbtLrnTkJgPeIndRUunIl0Ww/tEAAAAhAZ+qakLfAOpeoBcx62gMFjVJySJBSGCeRtYc\n",
              "4GX/xdPgAAAAN0GbrUmoQWiZTBTxnwAAAwADi2713hEQNqJQGnHgogMF5k9FEAqpVbD/bxQjaQh1\n",
              "oViia3AUgugAAAAsAZ/MakLfAh13xCQD958178SMEHJk/qGrzfMnEkxFbMbbAfzoZexQmsai/ukA\n",
              "AAA+QZvOSeEKUmUwIz8AAAMAA4rYGcwBtk62ezEnM95E9E3c2Ii2/McQgiu+AD2HJFrL58J967GE\n",
              "ZlQvp3aDNlEAAAAyQZvvSeEOiZTAjv8AAAMABkDH8JuEolABuGoQxDXDNZTBBFr3GX5VIWH4p3Oz\n",
              "fF6R/KEAAAGbQZoQSeEPJlMCEP8AAAMACGFmqvxGGXZCvdAfZqqG55gacTihncAzNdwiZF35XWk7\n",
              "taBqW29p9+jZkUk5kIJbpmAsCP9uiwRRcLVrgb0Z6LsIdL4UuzJuaGm21AADomg6kPYvu0aOLEtv\n",
              "eOoui4pgTDeMzLmW4FehTnc4rtW6SHVeKGCgfxAfmcXu4XH9lUszWRd6nncuPFfhV1pS1K1G49Ah\n",
              "jQ/WW3WP5Xw8fP54zoghGuQiR1+KWBeecD5oDnUiD+YyawhuC1y3tkoS0GL3HMg0oqBaWUpAfrV1\n",
              "BDbq5IA0ZeV1Ao3zrjjneU6LSAf7woAV04EM9cQ7SyHhR8eah1qRK0BgBdwHt0Wi/i7NLjxsRWJ/\n",
              "nzjzW4aAQN73NmeU5vMwD3WVeFAZ7MQNpW1YfOFlAL034ckZfve0c6YCRFw1oW355OMjanNOKSOt\n",
              "kFY3tqbipGskpoZyogOypxDXOe6AjBHU1/mH2TXDIFOmI6eRf8mVC4WcS5v/DAOeCXs4yXI0Albm\n",
              "GepmnQo0Tgb+1FYhNOwUs3NbIK2AAAABgUGaMUnhDyZTAhL/AAADAAzTI19Yj2BLN0jflamljPze\n",
              "Ln65HAAZnn+zWZ6r4ng/kr92EPMpVu6xo3YlKF7fAQHuCdOD/djJ9E0aU7uxYK9URTWDisqQ6JVi\n",
              "Qp05my4dwaLAhcP4eDjxzQ05RvpbO/y998K0txAtyYrhdsk2l2QiugoaRVeLe/ZpO8YrwGLPLpiF\n",
              "FX2UyOrvXTQ0Qr/ek8xg24p+Eu/QkFQL04Wbb9nXC18Hw4KqhABwxyGm00kXQ4B1G5UIt9OkrWGl\n",
              "XWDQF8KGZt9iRssD9RUmqcFF1mf+CUgVAjAa+zBnRW1wERJsxU69MD2XmUmMiNUOOL7iaIlHlsuo\n",
              "O9hRK5Vu1icEBh0BHB33NAz+SzbufVUVpvJd5wdYJoEOv646mCOv5hLr41laerBcMysb1nBBWXLm\n",
              "01eeLzsD/KvF37+5U/ZU8O38e3sCGlpl2yR55074+H9tzGHpE5ZVWy31w+CI76Vm/o51zqzJYNY1\n",
              "FGYjKSLyo1gbbEgAAAFkQZpSSeEPJlMCFv8AAAMAABBHFLg6nM51wcD/hBhyiZytxvG1PoVA5oy3\n",
              "mXclYjfQQU5E8AvJirfjVCvJfO3g5PG1Y0kISDiSzlSQo4nmQEcoPG6vB+U3WabTedz9mZI7jaU7\n",
              "1ti5SJ5kvOyGn4+G2RcsNT/B5LYzpxGAQet19ei9gqN0lAJAH6mSdTNDVmf7KygpIPp0MG6Q5aB6\n",
              "8dIcuxWK9RtYYwHL2bTcTsE4SL44MiTJnYmKMyU3XWvTzrHThUQDspPWaUAHDOjmB0P5g8dmjM2D\n",
              "+00+2+TZcRTMmnX5MuWV6nZyqbo/Un3M7V8WiVD5ilCM2w/l/Gq8gGNNY0r2jAJcLBHBbrMY+ajl\n",
              "HQMe2MKBynfH/QYW8bJLPRA5xvh5PWEYF9BZJ8PfdEE5Kk8IwSg5YV8t4qMShDMRwW6C8iwifmAj\n",
              "QbvPh+wswHfb5t3KUc+cpA1hjnntbnyanki1IYEAAAbAbW9vdgAAAGxtdmhkAAAAAAAAAAAAAAAA\n",
              "AAAD6AAAEDYAAQAAAQAAAAAAAAAAAAAAAAEAAAAAAAAAAAAAAAAAAAABAAAAAAAAAAAAAAAAAABA\n",
              "AAAAAAAAAAAAAAAAAAAAAAAAAAAAAAAAAAAAAAAAAgAABep0cmFrAAAAXHRraGQAAAADAAAAAAAA\n",
              "AAAAAAABAAAAAAAAEDYAAAAAAAAAAAAAAAAAAAAAAAEAAAAAAAAAAAAAAAAAAAABAAAAAAAAAAAA\n",
              "AAAAAABAAAAAAfQAAAH0AAAAAAAkZWR0cwAAABxlbHN0AAAAAAAAAAEAABA2AAAEAAABAAAAAAVi\n",
              "bWRpYQAAACBtZGhkAAAAAAAAAAAAAAAAAAAoAAAApgBVxAAAAAAALWhkbHIAAAAAAAAAAHZpZGUA\n",
              "AAAAAAAAAAAAAABWaWRlb0hhbmRsZXIAAAAFDW1pbmYAAAAUdm1oZAAAAAEAAAAAAAAAAAAAACRk\n",
              "aW5mAAAAHGRyZWYAAAAAAAAAAQAAAAx1cmwgAAAAAQAABM1zdGJsAAAAuXN0c2QAAAAAAAAAAQAA\n",
              "AKlhdmMxAAAAAAAAAAEAAAAAAAAAAAAAAAAAAAAAAfQB9ABIAAAASAAAAAAAAAABAAAAAAAAAAAA\n",
              "AAAAAAAAAAAAAAAAAAAAAAAAAAAAAAAAGP//AAAAN2F2Y0MBZAAe/+EAGmdkAB6s2UCAEHnnhAAA\n",
              "AwAEAAADAKA8WLZYAQAGaOvjyyLA/fj4AAAAABx1dWlka2hA8l8kT8W6OaUbzwMj8wAAAAAAAAAY\n",
              "c3R0cwAAAAAAAAABAAAAUwAAAgAAAAAUc3RzcwAAAAAAAAABAAAAAQAAAlBjdHRzAAAAAAAAAEgA\n",
              "AAABAAAEAAAAAAEAAAYAAAAAAQAAAgAAAAABAAAIAAAAAAIAAAIAAAAAAQAABgAAAAABAAACAAAA\n",
              "AAEAAAQAAAAAAQAABgAAAAABAAACAAAAAAEAAAgAAAAAAgAAAgAAAAABAAAKAAAAAAEAAAQAAAAA\n",
              "AQAAAAAAAAABAAACAAAAAAEAAAoAAAAAAQAABAAAAAABAAAAAAAAAAEAAAIAAAAAAQAACAAAAAAC\n",
              "AAACAAAAAAEAAAQAAAAAAQAACgAAAAABAAAEAAAAAAEAAAAAAAAAAQAAAgAAAAABAAAKAAAAAAEA\n",
              "AAQAAAAAAQAAAAAAAAABAAACAAAAAAEAAAQAAAAAAQAABgAAAAABAAACAAAAAAEAAAYAAAAAAQAA\n",
              "AgAAAAABAAAGAAAAAAEAAAIAAAAAAQAACAAAAAACAAACAAAAAAEAAAYAAAAAAQAAAgAAAAABAAAK\n",
              "AAAAAAEAAAQAAAAAAQAAAAAAAAABAAACAAAAAAEAAAQAAAAAAQAABgAAAAABAAACAAAAAAEAAAQA\n",
              "AAAAAQAABgAAAAABAAACAAAAAAEAAAYAAAAAAQAAAgAAAAABAAAKAAAAAAEAAAQAAAAAAQAAAAAA\n",
              "AAABAAACAAAAAAEAAAoAAAAAAQAABAAAAAABAAAAAAAAAAEAAAIAAAAAAQAABgAAAAABAAACAAAA\n",
              "AAMAAAQAAAAAAQAABgAAAAABAAACAAAAAAEAAAgAAAAAAgAAAgAAAAABAAAGAAAAAAEAAAIAAAAA\n",
              "BQAABAAAAAAcc3RzYwAAAAAAAAABAAAAAQAAAFMAAAABAAABYHN0c3oAAAAAAAAAAAAAAFMAAAhJ\n",
              "AAABvAAAADsAAABIAAAALAAAABsAAAF6AAAAKgAAAaIAAAGXAAAAKwAAAYkAAAAwAAAAHQAAAeIA\n",
              "AAAuAAAAJgAAACEAAABFAAAAKgAAAB8AAAAmAAABmwAAADcAAAAfAAAAQgAAADwAAAA2AAAAJAAA\n",
              "ABsAAAA9AAAANQAAACQAAAAbAAABfQAAAZoAAAAvAAABqAAAAC0AAABRAAAAKwAAAD4AAAAzAAAA\n",
              "GwAAAEMAAAAmAAABggAAAEMAAAAnAAAAIgAAAYsAAABAAAAAKQAAAD8AAABDAAAAJwAAAZsAAAAt\n",
              "AAABsAAAAD4AAAAlAAAAHQAAAFQAAAA9AAAAKgAAACQAAABEAAAAKwAAADoAAAA4AAABogAAADoA\n",
              "AAApAAABlwAAAEUAAAAlAAAAOwAAADAAAABCAAAANgAAAZ8AAAGFAAABaAAAABRzdGNvAAAAAAAA\n",
              "AAEAAAAwAAAAYnVkdGEAAABabWV0YQAAAAAAAAAhaGRscgAAAAAAAAAAbWRpcmFwcGwAAAAAAAAA\n",
              "AAAAAAAtaWxzdAAAACWpdG9vAAAAHWRhdGEAAAABAAAAAExhdmY1OC43Ni4xMDA=\n",
              "\">\n",
              "  Your browser does not support the video tag.\n",
              "</video>"
            ]
          },
          "metadata": {},
          "execution_count": 10
        }
      ],
      "source": [
        "test_agent(env, policy, episodes=1)"
      ]
    },
    {
      "cell_type": "markdown",
      "metadata": {
        "id": "tF2UjZft6Vbg"
      },
      "source": [
        "#### Plot the policy"
      ]
    },
    {
      "cell_type": "code",
      "execution_count": 11,
      "metadata": {
        "id": "HJdUvc1T6Vbg",
        "colab": {
          "base_uri": "https://localhost:8080/",
          "height": 933
        },
        "outputId": "3710c600-c31c-43ad-da85-251eb7a04d86"
      },
      "outputs": [
        {
          "output_type": "display_data",
          "data": {
            "text/plain": [
              "<Figure size 500x500 with 1 Axes>"
            ],
            "image/png": "[encoded data removed]"
          },
          "metadata": {}
        },
        {
          "output_type": "display_data",
          "data": {
            "text/plain": [
              "<Figure size 800x400 with 2 Axes>"
            ],
            "image/png": "[encoded data removed]"
          },
          "metadata": {}
        }
      ],
      "source": [
        "plot_policy(policy_probs, frame)"
      ]
    },
    {
      "cell_type": "markdown",
      "metadata": {
        "id": "btCVXrhJ6Vbg"
      },
      "source": [
        "## Define value table $V(s)$"
      ]
    },
    {
      "cell_type": "markdown",
      "metadata": {
        "id": "byOFEsaA6Vbg"
      },
      "source": [
        "#### Create the $V(s)$ table"
      ]
    },
    {
      "cell_type": "code",
      "execution_count": 12,
      "metadata": {
        "id": "j2lX_33D6Vbg"
      },
      "outputs": [],
      "source": [
        "state_values = np.zeros(shape=(5,5))"
      ]
    },
    {
      "cell_type": "markdown",
      "metadata": {
        "id": "D9_EfMnY6Vbh"
      },
      "source": [
        "#### Plot V(s)"
      ]
    },
    {
      "cell_type": "code",
      "execution_count": 13,
      "metadata": {
        "id": "TI5YZTSF6Vbh",
        "colab": {
          "base_uri": "https://localhost:8080/",
          "height": 407
        },
        "outputId": "b969fb17-706d-4166-8eab-181c3ea45142"
      },
      "outputs": [
        {
          "output_type": "display_data",
          "data": {
            "text/plain": [
              "<Figure size 1000x400 with 3 Axes>"
            ],
            "image/png": "[encoded data removed]"
          },
          "metadata": {}
        }
      ],
      "source": [
        "plot_values(state_values, frame)"
      ]
    },
    {
      "cell_type": "markdown",
      "metadata": {
        "id": "qfiam4Ef6Vbh"
      },
      "source": [
        "## Implement the Policy Iteration algorithm"
      ]
    },
    {
      "cell_type": "code",
      "execution_count": 13,
      "metadata": {
        "id": "N_5XQChT6Vbh"
      },
      "outputs": [],
      "source": [
        "def policy_evaluation(policy_probs, state_values, gamma = 0.99 , theta=0.0001):\n",
        "  delta = float(\"inf\")\n",
        "\n",
        "  while delta > theta:\n",
        "    delta = 0\n",
        "    for row in range(5):\n",
        "      for col in range(5):\n",
        "\n",
        "        old_value = state_values[(row, col)]\n",
        "        new_value = 0.0\n",
        "\n",
        "        action_probabilities = policy_probs[(row, col)]\n",
        "\n",
        "        for action, prob in enumerate(action_probabilities):\n",
        "          next_state, reward, done, info = env.simulate_step((row, col), action)"
      ]
    },
    {
      "cell_type": "code",
      "execution_count": 13,
      "metadata": {
        "id": "JRj7ZxuO6Vbh"
      },
      "outputs": [],
      "source": []
    },
    {
      "cell_type": "code",
      "execution_count": 13,
      "metadata": {
        "id": "-0F0aB_f6Vbh"
      },
      "outputs": [],
      "source": []
    },
    {
      "cell_type": "code",
      "execution_count": 13,
      "metadata": {
        "id": "0eZr-1ko6Vbh"
      },
      "outputs": [],
      "source": []
    },
    {
      "cell_type": "markdown",
      "metadata": {
        "id": "zHHT9iLY6Vbh"
      },
      "source": [
        "## Show results"
      ]
    },
    {
      "cell_type": "markdown",
      "source": [
        "Show resulting value table V(s)"
      ],
      "metadata": {
        "id": "4bVf7AMd7ajW"
      }
    },
    {
      "cell_type": "code",
      "source": [
        "plot_values(state_values, frame)"
      ],
      "metadata": {
        "id": "Y1GDXzvt7atl"
      },
      "execution_count": null,
      "outputs": []
    },
    {
      "cell_type": "markdown",
      "source": [
        "Show resulting policy $\\pi(\\cdot|s)$"
      ],
      "metadata": {
        "id": "1OdMtp1n7hBU"
      }
    },
    {
      "cell_type": "code",
      "source": [
        "plot_policy(policy_probs, frame)"
      ],
      "metadata": {
        "id": "y4u6alml7hHQ"
      },
      "execution_count": null,
      "outputs": []
    },
    {
      "cell_type": "markdown",
      "metadata": {
        "id": "onu9Yu8D6Vbh"
      },
      "source": [
        "#### Test the resulting agent"
      ]
    },
    {
      "cell_type": "code",
      "execution_count": null,
      "metadata": {
        "id": "U_8oUWxl6Vbh"
      },
      "outputs": [],
      "source": [
        "test_agent(env, policy)"
      ]
    },
    {
      "cell_type": "markdown",
      "metadata": {
        "id": "bixFf0kp6Vbh"
      },
      "source": [
        "## Resources"
      ]
    },
    {
      "cell_type": "markdown",
      "metadata": {
        "id": "NIU61hO36Vbh"
      },
      "source": [
        "[[1] Reinforcement Learning: An Introduction. Ch. 4: Dynamic Programming](https://web.stanford.edu/class/psych209/Readings/SuttonBartoIPRLBook2ndEd.pdf)"
      ]
    }
  ],
  "metadata": {
    "kernelspec": {
      "display_name": "Python 3",
      "language": "python",
      "name": "python3"
    },
    "language_info": {
      "codemirror_mode": {
        "name": "ipython",
        "version": 3
      },
      "file_extension": ".py",
      "mimetype": "text/x-python",
      "name": "python",
      "nbconvert_exporter": "python",
      "pygments_lexer": "ipython3",
      "version": "3.8.5"
    },
    "colab": {
      "provenance": []
    }
  },
  "nbformat": 4,
  "nbformat_minor": 0
}